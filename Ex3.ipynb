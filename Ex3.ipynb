{
 "cells": [
  {
   "cell_type": "code",
   "execution_count": 6,
   "id": "dc264308",
   "metadata": {},
   "outputs": [
    {
     "name": "stdout",
     "output_type": "stream",
     "text": [
      "Linear SVM Cross-Validation Accuracy: 0.80 (+/- 0.33)\n",
      "Polynomial SVM Cross-Validation Accuracy: 0.80 (+/- 0.53)\n",
      "RBF SVM Cross-Validation Accuracy: 0.80 (+/- 0.53)\n",
      "Performance Score: 1.00\n"
     ]
    }
   ],
   "source": [
    "import pandas as pd\n",
    "import numpy as np\n",
    "from sklearn.model_selection import train_test_split, cross_val_score\n",
    "from sklearn.preprocessing import StandardScaler, LabelEncoder\n",
    "from sklearn.metrics import confusion_matrix, accuracy_score, precision_score, recall_score, f1_score\n",
    "from sklearn.svm import SVC\n",
    "\n",
    "# Load dataset\n",
    "data = pd.read_csv('Ex3.csv')\n",
    "\n",
    "# Handling missing values (if any)\n",
    "data.fillna(method='ffill', inplace=True)\n",
    "\n",
    "# Encoding categorical variables\n",
    "le = LabelEncoder()\n",
    "data['Gender'] = le.fit_transform(data['Gender'])\n",
    "\n",
    "# Splitting the dataset into the Training set and Test set\n",
    "X = data.drop('Purchase', axis=1)\n",
    "y = data['Purchase']\n",
    "\n",
    "# Feature scaling\n",
    "sc = StandardScaler()\n",
    "X_scaled = sc.fit_transform(X)\n",
    "\n",
    "# Define SVM classifiers\n",
    "classifiers = {\n",
    "    'Linear SVM': SVC(kernel='linear', random_state=0),\n",
    "    'Polynomial SVM': SVC(kernel='poly', degree=3, random_state=0),\n",
    "    'RBF SVM': SVC(kernel='rbf', random_state=0)\n",
    "}\n",
    "\n",
    "# Evaluate each classifier using k-fold cross-validation\n",
    "for clf_name, clf in classifiers.items():\n",
    "    scores = cross_val_score(clf, X_scaled, y, cv=5, scoring='accuracy')\n",
    "    print(f\"{clf_name} Cross-Validation Accuracy: {scores.mean():.2f} (+/- {scores.std() * 2:.2f})\")\n",
    "\n",
    "# Train a selected SVM model (e.g., Linear SVM) on the entire dataset\n",
    "X_train, X_test, y_train, y_test = train_test_split(X_scaled, y, test_size=0.25, random_state=0)\n",
    "classifier = SVC(kernel='linear', random_state=0)\n",
    "classifier.fit(X_train, y_train)\n",
    "\n",
    "# Make Predictions\n",
    "y_pred = classifier.predict(X_test)\n",
    "\n",
    "# Performance Evaluation\n",
    "cm = confusion_matrix(y_test, y_pred)\n",
    "accuracy = accuracy_score(y_test, y_pred)\n",
    "precision = precision_score(y_test, y_pred)\n",
    "recall = recall_score(y_test, y_pred)\n",
    "f1 = f1_score(y_test, y_pred)\n",
    "\n",
    "\n",
    "print(f\"Performance Score: {f1:.2f}\")\n"
   ]
  },
  {
   "cell_type": "code",
   "execution_count": 1,
   "id": "4532d01f",
   "metadata": {},
   "outputs": [
    {
     "name": "stdout",
     "output_type": "stream",
     "text": [
      "Original Dataframe shape : (569, 31)\n",
      "Inputs Dataframe shape   : (569, 30)\n"
     ]
    }
   ],
   "source": [
    "import pandas as pd\n",
    "import numpy as np\n",
    "\n",
    "# Here we are using inbuilt dataset of scikit learn\n",
    "from sklearn.datasets import load_breast_cancer\n",
    "\n",
    "# instantiating\n",
    "cancer = load_breast_cancer(as_frame=True)\n",
    "# creating dataframe\n",
    "df = cancer.frame\n",
    "\n",
    "# checking shape\n",
    "print('Original Dataframe shape :',df.shape)\n",
    "\n",
    "# Input features\n",
    "X = df[cancer['feature_names']]\n",
    "print('Inputs Dataframe shape   :', X.shape)\n"
   ]
  },
  {
   "cell_type": "code",
   "execution_count": null,
   "id": "2e150509",
   "metadata": {},
   "outputs": [],
   "source": [
    "%%writefile Ex4.cAge,Income,Gender,TargetVariable\n",
    "25,50000,Male,0\n",
    "45,64000,Female,1\n",
    "35,58000,Female,0\n",
    "50,72000,Male,1\n",
    "23,48000,Male,0\n",
    "31,52000,Female,0\n",
    "46,60000,Female,1\n",
    "29,55000,Male,0\n",
    "52,75000,Male,1\n",
    "48,68000,Female,1\n",
    "36,59000,Male,0\n",
    "28,53000,Female,0\n",
    "27,52000,Female,0\n",
    "44,61000,Male,1\n",
    "33,57000,Female,1\n"
   ]
  }
 ],
 "metadata": {
  "kernelspec": {
   "display_name": "Python 3 (ipykernel)",
   "language": "python",
   "name": "python3"
  },
  "language_info": {
   "codemirror_mode": {
    "name": "ipython",
    "version": 3
   },
   "file_extension": ".py",
   "mimetype": "text/x-python",
   "name": "python",
   "nbconvert_exporter": "python",
   "pygments_lexer": "ipython3",
   "version": "3.11.5"
  }
 },
 "nbformat": 4,
 "nbformat_minor": 5
}
